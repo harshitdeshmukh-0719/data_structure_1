{
  "nbformat": 4,
  "nbformat_minor": 0,
  "metadata": {
    "colab": {
      "provenance": [],
      "toc_visible": true,
      "authorship_tag": "ABX9TyNgVrXp5Mx9/dsC5OGimC6z",
      "include_colab_link": true
    },
    "kernelspec": {
      "name": "python3",
      "display_name": "Python 3"
    },
    "language_info": {
      "name": "python"
    }
  },
  "cells": [
    {
      "cell_type": "markdown",
      "metadata": {
        "id": "view-in-github",
        "colab_type": "text"
      },
      "source": [
        "<a href=\"https://colab.research.google.com/github/harshitdeshmukh-0719/data_structure_1/blob/main/data_structure_assignment.ipynb\" target=\"_parent\"><img src=\"https://colab.research.google.com/assets/colab-badge.svg\" alt=\"Open In Colab\"/></a>"
      ]
    },
    {
      "cell_type": "code",
      "execution_count": null,
      "metadata": {
        "colab": {
          "base_uri": "https://localhost:8080/",
          "height": 36
        },
        "id": "spUx9FK3g7ja",
        "outputId": "90e08d4b-f5a0-402b-b80c-500b692946ea"
      },
      "outputs": [
        {
          "output_type": "execute_result",
          "data": {
            "text/plain": [
              "'balsllikswp'"
            ],
            "application/vnd.google.colaboratory.intrinsic+json": {
              "type": "string"
            }
          },
          "metadata": {},
          "execution_count": 1
        }
      ],
      "source": [
        "# 1. Write a code to reverse a string.\n",
        "\n",
        "# code\n",
        "\n",
        "string=\"pwskillslab\"\n",
        "string[::-1]"
      ]
    },
    {
      "cell_type": "code",
      "source": [
        "# 2. Write a code to count the number of vowels in a string.\n",
        "\n",
        "# code\n",
        "\n",
        "string = \"Data Science 2.0 Course of PW\"\n",
        "vowels = \"aeiouAEIOU\"\n",
        "count = 0\n",
        "\n",
        "for char in string:\n",
        "    if char in vowels:\n",
        "        count += 1\n",
        "\n",
        "print(\"Number of vowels in the string:\", count)"
      ],
      "metadata": {
        "colab": {
          "base_uri": "https://localhost:8080/"
        },
        "id": "L7kvwjIvhLjP",
        "outputId": "d7c17396-a3ca-47cf-b873-3a0204572b8c"
      },
      "execution_count": null,
      "outputs": [
        {
          "output_type": "stream",
          "name": "stdout",
          "text": [
            "Number of vowels in the string: 9\n"
          ]
        }
      ]
    },
    {
      "cell_type": "code",
      "source": [
        "# 3. Write a code to check if a given string is a palindrome or not.\n",
        "\n",
        "# code\n",
        "\n",
        "s = input(\"Enter a string: \")\n",
        "s = s.lower()\n",
        "\n",
        "if s == s[::-1]:\n",
        "    print(\"It's a palindrome!\")\n",
        "else:\n",
        "    print(\"It's not a palindrome.\")"
      ],
      "metadata": {
        "colab": {
          "base_uri": "https://localhost:8080/"
        },
        "id": "FjbxdnU9hWLO",
        "outputId": "06c20680-c440-4925-f517-f5658a3ba91e"
      },
      "execution_count": null,
      "outputs": [
        {
          "output_type": "stream",
          "name": "stdout",
          "text": [
            "Enter a string: Harshit\n",
            "It's not a palindrome.\n"
          ]
        }
      ]
    },
    {
      "cell_type": "code",
      "source": [
        "# 4. Write a code to check if two given strings are anagrams of each other.\n",
        "\n",
        "# code\n",
        "\n",
        "string1 = input(\"Enter the first string: \").lower()\n",
        "string2 = input(\"Enter the second string: \").lower()\n",
        "\n",
        "if sorted(string1.replace(\" \", \"\")) == sorted(string2.replace(\" \", \"\")):\n",
        "    print(\"The strings are anagrams of each other!\")\n",
        "else:\n",
        "    print(\"The string's are not anagrams.\")"
      ],
      "metadata": {
        "colab": {
          "base_uri": "https://localhost:8080/"
        },
        "id": "-kupQ7Ikh34S",
        "outputId": "e20db300-b57e-42f6-f117-412f182b40db"
      },
      "execution_count": null,
      "outputs": [
        {
          "output_type": "stream",
          "name": "stdout",
          "text": [
            "Enter the first string: harshit\n",
            "Enter the second string: deshmukh\n",
            "The string's are not anagrams.\n"
          ]
        }
      ]
    },
    {
      "cell_type": "code",
      "source": [
        "# 5. Write a code to find all occurrences of a given substring within another string.\n",
        "\n",
        "# Code\n",
        "\n",
        "main_string = input(\"Enter the main string: \")\n",
        "substring = input(\"Enter the substring to search for: \")\n",
        "\n",
        "occurrences = [i for i in range(len(main_string)) if main_string.startswith(substring, i)]\n",
        "\n",
        "if occurrences:\n",
        "    print(f\"The substring '{substring}' occurs at the following indices:\")\n",
        "    print(occurrences)\n",
        "else:\n",
        "    print(f\"The substring '{substring}' does not occur in the main string.\")"
      ],
      "metadata": {
        "colab": {
          "base_uri": "https://localhost:8080/"
        },
        "id": "D23a1pNbiNyJ",
        "outputId": "20a880ec-6898-4dca-f5e0-02776688261c"
      },
      "execution_count": null,
      "outputs": [
        {
          "name": "stdout",
          "output_type": "stream",
          "text": [
            "Enter the main string: \n"
          ]
        }
      ]
    },
    {
      "cell_type": "code",
      "source": [
        "# 6. Write a code to perform basic string compression using the counts of repeated characters.\n",
        "\n",
        "# Code\n",
        "\n",
        "s = \"aabcccddddeeeff\"\n",
        "\n",
        "compressed = \"\"\n",
        "count = 1\n",
        "\n",
        "for i in range(len(s) - 1):\n",
        "    if s[k] == s[k + 1]:\n",
        "        count += 1\n",
        "    else:\n",
        "        compressed += s[k] + str(count)\n",
        "        count = 1\n",
        "\n",
        "compressed += s[-1] + str(count)\n",
        "\n",
        "print(\"Original string:\", s)\n",
        "print(\"Compressed string:\", compressed)"
      ],
      "metadata": {
        "id": "WYZyy0Xeiis5"
      },
      "execution_count": null,
      "outputs": []
    },
    {
      "cell_type": "code",
      "source": [
        "# 7. Write a code to determine if a string has all unique characters.\n",
        "\n",
        "# Code\n",
        "\n",
        "string = \"harshit07\"\n",
        "seen = set()\n",
        "is_unique = True\n",
        "\n",
        "for char in string:\n",
        "    if char in seen:\n",
        "        is_unique = False\n",
        "        break\n",
        "    seen.add(char)\n",
        "\n",
        "print(is_unique)"
      ],
      "metadata": {
        "id": "aewX47fnjB6b"
      },
      "execution_count": null,
      "outputs": []
    },
    {
      "cell_type": "code",
      "source": [
        "# 8. Write a code to convert a given string to uppercase or lowercase.\n",
        "\n",
        "# Code\n",
        "\n",
        "str1 = input(\"Enter a string: \")\n",
        "option = input(\"Convert to uppercase or lowercase? \")\n",
        "\n",
        "if option.lower() == 'uppercase':\n",
        "    convert = str1.upper()\n",
        "elif option.lower() == 'lowercase':\n",
        "    convert = str1.lower()\n",
        "else:\n",
        "    convert = \"Invalid option. Please choose 'uppercase' or 'lowercase'.\"\n",
        "\n",
        "print(\"Converted string:\", convert)"
      ],
      "metadata": {
        "id": "5Lk3tbSbkLoA"
      },
      "execution_count": null,
      "outputs": []
    },
    {
      "cell_type": "code",
      "source": [
        "# 9. Write a code to count the number of words in a string.\n",
        "\n",
        "# Code\n",
        "\n",
        "sentence = \"I am data analyst.\"\n",
        "words = sentence.split()\n",
        "num_words = len(words)\n",
        "\n",
        "print(\"Number of words:\", num_words)"
      ],
      "metadata": {
        "id": "SO_5qwb8kS1s"
      },
      "execution_count": null,
      "outputs": []
    },
    {
      "cell_type": "code",
      "source": [
        "# 10. Write a code to concatenate two strings without using the + operator.\n",
        "\n",
        "# Code\n",
        "\n",
        "str1 = \"PW\"\n",
        "str2 = \" skills \"\n",
        "\n",
        "concatenated_string = \"\"\n",
        "for char in str1:\n",
        "    concatenated_string += char\n",
        "for char in str2:\n",
        "    concatenated_string += char\n",
        "\n",
        "print(concatenated_string)"
      ],
      "metadata": {
        "id": "WOfyeBUMkWFA"
      },
      "execution_count": null,
      "outputs": []
    },
    {
      "cell_type": "code",
      "source": [
        "# 11. Write a code to remove all occurrences of a specific element from a list.\n",
        "\n",
        "# Code\n",
        "\n",
        "original_list = [101,202,303,404,505,606,909,808,505]\n",
        "element_to_remove = 505\n",
        "\n",
        "while element_to_remove in original_list:\n",
        "    original_list.remove(element_to_remove)\n",
        "\n",
        "print(\"Modified list after removing all occurrences of\", element_to_remove, \":\", original_list)"
      ],
      "metadata": {
        "id": "OS5lwJWrkcdk",
        "colab": {
          "base_uri": "https://localhost:8080/"
        },
        "outputId": "f24b72e6-e6cb-46c1-b3f5-146d5d09bee8"
      },
      "execution_count": null,
      "outputs": [
        {
          "output_type": "stream",
          "name": "stdout",
          "text": [
            "Modified list after removing all occurrences of 505 : [101, 202, 303, 404, 606, 909, 808]\n"
          ]
        }
      ]
    },
    {
      "cell_type": "code",
      "source": [
        "# 12. Implement a code to find the second largest number in a given list of integers.\n",
        "\n",
        "# Code\n",
        "\n",
        "user_input = input(\"Enter a list of numbers separated by space: \")\n",
        "my_list = [int(x) for x in user_input.split()]\n",
        "my_list.sort()\n",
        "\n",
        "if len(my_list) < 2:\n",
        "    print(\"List should contain at least two elements\")\n",
        "else:\n",
        "    print(\"Second largest number:\", my_list[-2])"
      ],
      "metadata": {
        "id": "AsNrqCPukgc9",
        "colab": {
          "base_uri": "https://localhost:8080/"
        },
        "outputId": "f60f9f97-6d02-4c65-8c6d-9c63afeb748e"
      },
      "execution_count": null,
      "outputs": [
        {
          "output_type": "stream",
          "name": "stdout",
          "text": [
            "Enter a list of numbers separated by space: 2\n",
            "List should contain at least two elements\n"
          ]
        }
      ]
    },
    {
      "cell_type": "code",
      "source": [
        "# 13. Create a code to count the occurrences of each element in a list and return a dictionary with elements keys and their counts as values.\n",
        "\n",
        "# Code\n",
        "\n",
        "my_list = [1, 1,3,4,5,1,1,2,3,4,2,1,4,3,5,5,3,6]\n",
        "\n",
        "counts = {}\n",
        "\n",
        "for element in my_list:\n",
        "    if element in counts:\n",
        "        counts[element] += 1\n",
        "    else:\n",
        "        counts[element] = 1\n",
        "\n",
        "print(\"Element counts:\", counts)"
      ],
      "metadata": {
        "id": "vkAS2ad0kjZs",
        "colab": {
          "base_uri": "https://localhost:8080/"
        },
        "outputId": "bde5be4e-7f8b-435d-fd87-4053f8581fc3"
      },
      "execution_count": null,
      "outputs": [
        {
          "output_type": "stream",
          "name": "stdout",
          "text": [
            "Element counts: {1: 5, 3: 4, 4: 3, 5: 3, 2: 2, 6: 1}\n"
          ]
        }
      ]
    },
    {
      "cell_type": "code",
      "source": [
        "# 14. Write a code to reverse a list in-place without using any built-in reverse functions.\n",
        "\n",
        "# Code\n",
        "\n",
        "my_list = [11,22,44,77,99]\n",
        "my_list[::-1]\n"
      ],
      "metadata": {
        "id": "ILQmcQBlkpkA",
        "colab": {
          "base_uri": "https://localhost:8080/"
        },
        "outputId": "370b23e6-09dc-4b1b-85f3-33fcb0c5a462"
      },
      "execution_count": null,
      "outputs": [
        {
          "output_type": "execute_result",
          "data": {
            "text/plain": [
              "[99, 77, 44, 22, 11]"
            ]
          },
          "metadata": {},
          "execution_count": 6
        }
      ]
    },
    {
      "cell_type": "code",
      "source": [
        "# 15. Implement a code to find and remove duplicates from a list while preserving the original order of elements.\n",
        "\n",
        "# Code\n",
        "\n",
        "my_list = [55,66,44,22,88,99,77,66,55,44,11,22,33,66,99,77]\n",
        "\n",
        "unique_elements = set()\n",
        "\n",
        "result_list = []\n",
        "\n",
        "for item in my_list:\n",
        "    if item not in unique_elements:\n",
        "        result_list.append(item)\n",
        "        unique_elements.add(item)\n",
        "\n",
        "print(\"List without duplicates:\", result_list)"
      ],
      "metadata": {
        "id": "nAGrUxBKksi4",
        "colab": {
          "base_uri": "https://localhost:8080/"
        },
        "outputId": "0e83e6fe-a764-4ade-fb0b-e058bc66fa4e"
      },
      "execution_count": null,
      "outputs": [
        {
          "output_type": "stream",
          "name": "stdout",
          "text": [
            "List without duplicates: [55, 66, 44, 22, 88, 99, 77, 11, 33]\n"
          ]
        }
      ]
    },
    {
      "cell_type": "code",
      "source": [
        "# 16. Create a code to check if a given list is sorted (either in ascending or descending order) or not.\n",
        "\n",
        "# Code\n",
        "\n",
        "my_list = [1, 2, 3, 4, 5, 6, 7, 8, 9]\n",
        "\n",
        "if my_list:\n",
        "    ascending = all(my_list[i] <= my_list[i + 1] for i in range(len(my_list) - 1))\n",
        "    descending = all(my_list[i] >= my_list[i + 1] for i in range(len(my_list) - 1))\n",
        "else:\n",
        "    print(\"The list is empty.\")\n",
        "if ascending:\n",
        "    print(\"The list is sorted in ascending order.\")\n",
        "elif descending:\n",
        "    print(\"The list is sorted in descending order.\")\n",
        "else:\n",
        "    print(\"The list is not sorted.\")"
      ],
      "metadata": {
        "id": "OwlXkxMSk1pA",
        "colab": {
          "base_uri": "https://localhost:8080/"
        },
        "outputId": "90713591-69fa-434f-bec0-852ae698a8b7"
      },
      "execution_count": null,
      "outputs": [
        {
          "output_type": "stream",
          "name": "stdout",
          "text": [
            "The list is sorted in ascending order.\n"
          ]
        }
      ]
    },
    {
      "cell_type": "code",
      "source": [
        "# 17. Write a code to merge two sorted lists into a single sorted list.\n",
        "\n",
        "# code\n",
        "\n",
        "list1 = [6,5,7,8]\n",
        "list2 = [8,5,4,3]\n",
        "merged_list = []\n",
        "i = 0\n",
        "j = 0\n",
        "while i < len(list1) and j < len(list2):\n",
        "    if list1[i] < list2[j]:\n",
        "        merged_list.append(list1[i])\n",
        "        i += 1\n",
        "    else:\n",
        "        merged_list.append(list2[j])\n",
        "        j += 1\n",
        "while i < len(list1):\n",
        "    merged_list.append(list1[i])\n",
        "    i += 1\n",
        "while j < len(list2):\n",
        "    merged_list.append(list2[j])\n",
        "    j += 1\n",
        "print(\"Merged list:\", merged_list)"
      ],
      "metadata": {
        "id": "ux1m-Oxmk3PX",
        "colab": {
          "base_uri": "https://localhost:8080/"
        },
        "outputId": "7fb91eeb-3c4b-4638-ba14-14cf1e536c97"
      },
      "execution_count": null,
      "outputs": [
        {
          "output_type": "stream",
          "name": "stdout",
          "text": [
            "Merged list: [6, 5, 7, 8, 5, 4, 3, 8]\n"
          ]
        }
      ]
    },
    {
      "cell_type": "code",
      "source": [
        "# 18. Implement a code to find the intersection of two given lists.\n",
        "\n",
        "# Code\n",
        "\n",
        "list1 = [66,55,44,33]\n",
        "list2 = [11,22,55,33]\n",
        "intersection = []\n",
        "for item in list1:\n",
        "    if item in list2 and item not in intersection:\n",
        "        intersection.append(item)\n",
        "print(\"Intersection of the two lists:\", intersection)"
      ],
      "metadata": {
        "id": "m7N0brTflDuA",
        "colab": {
          "base_uri": "https://localhost:8080/"
        },
        "outputId": "8811de3f-ea1a-476e-8703-5ef50c6e9e0a"
      },
      "execution_count": null,
      "outputs": [
        {
          "output_type": "stream",
          "name": "stdout",
          "text": [
            "Intersection of the two lists: [55, 33]\n"
          ]
        }
      ]
    },
    {
      "cell_type": "code",
      "source": [
        "\n",
        "# 19. Create a code to find the union of two lists without duplicates.\n",
        "\n",
        "# Code\n",
        "\n",
        "list1=[7,8,9,3,6]\n",
        "list2=[ 6,3,9,8,5]\n",
        "\n",
        "union_list=set(list1+list2)\n",
        "union_list=list(union_list)\n",
        "\n",
        "print(\"The union of two lists without duplicates\",union_list)"
      ],
      "metadata": {
        "id": "GIyjBKznlGup",
        "colab": {
          "base_uri": "https://localhost:8080/"
        },
        "outputId": "f5722348-b814-4aed-e4fd-0b9bd04f6f4e"
      },
      "execution_count": null,
      "outputs": [
        {
          "output_type": "stream",
          "name": "stdout",
          "text": [
            "The union of two lists without duplicates [3, 5, 6, 7, 8, 9]\n"
          ]
        }
      ]
    },
    {
      "cell_type": "code",
      "source": [
        "# 20.Write a code to shuffle a given list randomly without using any built-in shuffle functions.\n",
        "\n",
        "# Code\n",
        "\n",
        "import random\n",
        "my_list = [5,4,1,3,8]\n",
        "shuffled_list = []\n",
        "while my_list:\n",
        "    index = random.randint(0, len(my_list) - 1)\n",
        "    shuffled_list.append(my_list.pop(index))\n",
        "\n",
        "print(\"Shuffled list:\", shuffled_list)"
      ],
      "metadata": {
        "id": "ZeoIFMMplJTI",
        "colab": {
          "base_uri": "https://localhost:8080/"
        },
        "outputId": "8d1bff01-55f1-42cf-8147-8ada7efe5112"
      },
      "execution_count": null,
      "outputs": [
        {
          "output_type": "stream",
          "name": "stdout",
          "text": [
            "Shuffled list: [1, 8, 3, 4, 5]\n"
          ]
        }
      ]
    },
    {
      "cell_type": "code",
      "source": [
        "# 21. Write a code that takes two tuples as input and returns a new tuple containing elements that are common to both input tuples.\n",
        "\n",
        "# Code\n",
        "\n",
        "tuple1 = tuple(input(\"Enter elements of the first tuple separated by spaces: \").split())\n",
        "tuple2 = tuple(input(\"Enter elements of the second tuple separated by spaces: \").split())\n",
        "\n",
        "set1 = set(tuple1)\n",
        "set2 = set(tuple2)\n",
        "\n",
        "common_elements = set1.intersection(set2)\n",
        "\n",
        "result_tuple = tuple(common_elements)\n",
        "\n",
        "print(\"Common elements:\", result_tuple)"
      ],
      "metadata": {
        "id": "DS1TyHuDlNC7"
      },
      "execution_count": null,
      "outputs": []
    },
    {
      "cell_type": "code",
      "source": [
        "# 22.Create a code that prompts the user to enter two sets of integers separated by commas. Then, print the intersection of these two sets.\n",
        "\n",
        "# Code\n",
        "\n",
        "set1 = set(input(\"Enter the first set of integers separated by commas: \").split(','))\n",
        "set2 = set(input(\"Enter the second set of integers separated by commas: \").split(','))\n",
        "\n",
        "print(\"Intersection of the two sets:\", set1 & set2)"
      ],
      "metadata": {
        "id": "TCYl_NDalSPb"
      },
      "execution_count": null,
      "outputs": []
    },
    {
      "cell_type": "code",
      "source": [
        "# 23. Write a code to concatenate two tuples. The function should take two tuples as input and return a new tuple containing elements from both input tuples.\n",
        "\n",
        "# Code\n",
        "\n",
        "tuple1 = (1, 2, 3)\n",
        "tuple2 = (4, 5, 6)\n",
        "\n",
        "concatenated_tuple = tuple1 + tuple2\n",
        "\n",
        "print(\"Concatenated tuple:\", concatenated_tuple)"
      ],
      "metadata": {
        "id": "waM2uGTSm7sF"
      },
      "execution_count": null,
      "outputs": []
    },
    {
      "cell_type": "code",
      "source": [
        "# 24.Develop a code that prompts the user to input two sets of strings. Then, print the elements that are present in the first set but not in the second set.\n",
        "\n",
        "# Code\n",
        "\n",
        "set1 = set(input(\"Enter the first set of strings separated by commas: \").split(','))\n",
        "set2 = set(input(\"Enter the second set of strings separated by commas: \").split(','))\n",
        "\n",
        "print(\"Elements present in the first set but not in the second set:\", set1 - set2)"
      ],
      "metadata": {
        "id": "LLUmMinxm-k3"
      },
      "execution_count": null,
      "outputs": []
    },
    {
      "cell_type": "code",
      "source": [
        "# 25.Create a code that takes a tuple and two integers as input. The fuction should return a new tuple containing elements from the original tuple within the specified range of indices.\n",
        "\n",
        "# Code\n",
        "\n",
        "input_tuple = tuple(input(\"Enter elements of the tuple separated by spaces: \").split())\n",
        "\n",
        "start_index = int(input(\"Enter the start index: \"))\n",
        "end_index = int(input(\"Enter the end index: \"))"
      ],
      "metadata": {
        "id": "JTpuYfF1nCIt"
      },
      "execution_count": null,
      "outputs": []
    },
    {
      "cell_type": "code",
      "source": [
        "# 26. Write a code that prompts the user to input two sets of characters. Then, print the union of these two sets.\n",
        "\n",
        "# Code\n",
        "\n",
        "set1_input = input(\"Enter the first set of characters separated by space: \")\n",
        "set2_input = input(\"Enter the second set of characters separated by space: \")\n",
        "set1 = set(set1_input.split(' '))\n",
        "set2 = set(set2_input.split(' '))"
      ],
      "metadata": {
        "id": "wiA3xYSOnFgU"
      },
      "execution_count": null,
      "outputs": []
    },
    {
      "cell_type": "code",
      "source": [
        "# 27. Develop a code that takes a tuple of integers as input. The function should return the maximum and minimum values from the tuple using tuple unpacking.\n",
        "\n",
        "# Code\n",
        "\n",
        "tuple_input = input(\"Enter a tuple of integers separated by space: \")\n",
        "\n",
        "input_tuple = tuple(int(x) for x in tuple_input.split(' '))\n",
        "\n",
        "max_val = max(input_tuple)\n",
        "min_val = min(input_tuple)\n",
        "\n",
        "print(\"Maximum value:\", max_val)\n",
        "print(\"Minimum value:\", min_val)"
      ],
      "metadata": {
        "id": "wI8GaL0VnJbQ"
      },
      "execution_count": null,
      "outputs": []
    },
    {
      "cell_type": "code",
      "source": [
        "# 28. Create a code that defines two sets of integers. Then, print the union, intersection, and difference of these two sets.\n",
        "\n",
        "# Code\n",
        "\n",
        "set1 = {,4,8,9,7,3,6}\n",
        "set2 = {3,2,1,6,5,4}\n",
        "\n",
        "print(\"Union:\", set1.union(set2))\n",
        "\n",
        "print(\"Intersection:\", set1.intersection(set2))\n",
        "\n",
        "print(\"Difference (set1 - set2):\", set1.difference(set2))\n",
        "print(\"Difference (set2 - set1):\", set2.difference(set1))"
      ],
      "metadata": {
        "id": "SOTyNWuXnhOC"
      },
      "execution_count": null,
      "outputs": []
    },
    {
      "cell_type": "code",
      "source": [
        "# 29. Write a code that takes a tuple and an element as input. The function should return the count of occurrences of the given element in the tuple.\n",
        "\n",
        "# Code\n",
        "\n",
        "input_tuple = tuple(input(\"Enter elements of the tuple separated by spaces: \").split())\n",
        "\n",
        "element = input(\"Enter the element to count: \")\n",
        "\n",
        "count = 0\n",
        "for item in input_tuple:\n",
        "    if item == element:\n",
        "        count += 1\n",
        "\n",
        "print(\"Occurrences of\", element, \"in the tuple:\", count)"
      ],
      "metadata": {
        "id": "ndBlzm2-njoX"
      },
      "execution_count": null,
      "outputs": []
    },
    {
      "cell_type": "code",
      "source": [
        "# 30. Develop a code that prompts the user to input two sets of strings. Then, print the symmetric difference of these two sets.\n",
        "\n",
        "# Code\n",
        "\n",
        "set1_input = input(\"Enter the first set of strings (separated by commas): \")\n",
        "set2_input = input(\"Enter the second set of strings (separated by commas): \")\n",
        "\n",
        "set1 = set(set1_input.split(\",\"))\n",
        "set2 = set(set2_input.split(\",\"))\n",
        "\n",
        "symmetric_difference = set1.symmetric_difference(set2)\n",
        "print(\"Symmetric Difference:\", symmetric_difference)"
      ],
      "metadata": {
        "id": "1P7TJmkNnmXM"
      },
      "execution_count": null,
      "outputs": []
    },
    {
      "cell_type": "code",
      "source": [
        "# 31. Write a code that takes a list of words as input and returns a dictionary where the keys are unique words and the values are the frequencies of those words in the input list.\n",
        "\n",
        "# Code\n",
        "\n",
        "word_list = input(\"Enter a list of words (separated by spaces): \").split()\n",
        "frequency_dict = {}\n",
        "for word in word_list:\n",
        "    word = word.lower()  # Convert to lowercase to ignore case differences\n",
        "    if word in frequency_dict:\n",
        "        frequency_dict[word] += 1\n",
        "    else:\n",
        "        frequency_dict[word] = 1\n",
        "print(\"Word Frequencies:\", frequency_dict)"
      ],
      "metadata": {
        "id": "7nqHTgJtnpWB"
      },
      "execution_count": null,
      "outputs": []
    },
    {
      "cell_type": "code",
      "source": [
        "# 32. Write a code that takes two dictionaries as input and merges them into a single dictionary. If there are common keys, the values should be added together.\n",
        "\n",
        "# Code\n",
        "\n",
        "dict1 = eval(input(\"Enter the first dictionary (in the format {'key1': value1, 'key2': value2}): \"))\n",
        "\n",
        "dict2 = eval(input(\"Enter the second dictionary (in the format {'key1': value1, 'key2': value2}): \"))\n",
        "\n",
        "merged_dict = dict1.copy()\n",
        "for key, value in dict2.items():\n",
        "    if key in merged_dict:\n",
        "        merged_dict[key] += value\n",
        "    else:\n",
        "        merged_dict[key] = value\n",
        "\n",
        "print(\"Merged dictionary with added values for common keys:\")\n",
        "print(merged_dict)"
      ],
      "metadata": {
        "id": "zKB3NHvPnxyj"
      },
      "execution_count": null,
      "outputs": []
    },
    {
      "cell_type": "code",
      "source": [
        "# 33. Write a code to access a value in a nested dictionary. The function should take the dictionary and a list of keys as input, and return the corresponding value. If any of the keys do not exist in the dictionary, the function should return None.\n",
        "\n",
        "# Code\n",
        "\n",
        "nested_dict = {'a': {'b': {'c': 5}}}\n",
        "\n",
        "keys = ['a', 'b', 'c']\n",
        "\n",
        "current_dict = nested_dict\n",
        "for key in keys:\n",
        "    if key in current_dict:\n",
        "        current_dict = current_dict[key]\n",
        "    else:\n",
        "        print(\"None\")\n",
        "        break\n",
        "else:\n",
        "    print(\"Value:\", current_dict)"
      ],
      "metadata": {
        "id": "tb3QKChVn1h9"
      },
      "execution_count": null,
      "outputs": []
    },
    {
      "cell_type": "code",
      "source": [
        "# 34. Write a code that takes a dictionary as input and returns a sorted version of it based on the values. You can choose whether to sort in ascending or descending order.\n",
        "\n",
        "# Code\n",
        "\n",
        "input_dict = eval(input(\"Enter a dictionary (in the format {'key1': value1, 'key2': value2}): \"))\n",
        "\n",
        "sort_order = input(\"Enter 'asc' for ascending order or 'desc' for descending order: \")\n",
        "\n",
        "sorted_dict = dict(sorted(input_dict.items(), key=lambda item: item[1], reverse=(sort_order.lower() == 'desc')))\n",
        "\n",
        "if sort_order.lower() == 'asc':\n",
        "    print(\"Sorted dictionary based on values in ascending order:\")\n",
        "elif sort_order.lower() == 'desc':\n",
        "    print(\"Sorted dictionary based on values in descending order:\")\n",
        "print(sorted_dict)"
      ],
      "metadata": {
        "id": "N-RyTI3jn4KX"
      },
      "execution_count": null,
      "outputs": []
    },
    {
      "cell_type": "code",
      "source": [
        "# 35. Write a code that inverts a dictionary, swapping keys and values. Ensure that the inverted dictionary correctly handles cases where multiple keys have the same value by storing the keys as a list in the inverted dictionary.\n",
        "\n",
        "# Code\n",
        "\n",
        "input_dict = {'mango': 1, 'banana': 2, 'orange': 1, 'grape': 2}\n",
        "\n",
        "inverted_dict = {}\n",
        "for key, value in input_dict.items():\n",
        "    if value in inverted_dict:\n",
        "        inverted_dict[value].append(key)\n",
        "    else:\n",
        "        inverted_dict[value] = [key]\n",
        "\n",
        "print(\"Inverted dictionary:\")\n",
        "print(inverted_dict)"
      ],
      "metadata": {
        "id": "SH1GIiAon7CL"
      },
      "execution_count": null,
      "outputs": []
    }
  ]
}